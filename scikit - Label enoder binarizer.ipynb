{
 "cells": [
  {
   "cell_type": "markdown",
   "metadata": {},
   "source": [
    "# What is label encoder"
   ]
  },
  {
   "cell_type": "markdown",
   "metadata": {},
   "source": [
    "Scikit understands only Numeric values, when string values like color(red, blue, green etc), or cities(london, paris, rome etc) come in we need to convert these to numeric values, to represent them.\n",
    "\n",
    "     red      0\n",
    "     ------------------------\n",
    "     blue     1\n",
    "     ------------------------\n",
    "     green    2"
   ]
  },
  {
   "cell_type": "code",
   "execution_count": 19,
   "metadata": {},
   "outputs": [
    {
     "data": {
      "text/plain": [
       "array([1, 1, 2, 0])"
      ]
     },
     "execution_count": 19,
     "metadata": {},
     "output_type": "execute_result"
    }
   ],
   "source": [
    "from sklearn import preprocessing\n",
    "\n",
    "cities           = ['paris', 'paris', 'tokyo', 'amsterdam']\n",
    "\n",
    "le               = preprocessing.LabelEncoder()\n",
    "encoded_value    = le.fit_transform(cities)\n",
    "encoded_value"
   ]
  },
  {
   "cell_type": "markdown",
   "metadata": {},
   "source": [
    "We can always get back the city values from the encoded values"
   ]
  },
  {
   "cell_type": "code",
   "execution_count": 20,
   "metadata": {},
   "outputs": [
    {
     "data": {
      "text/plain": [
       "array(['amsterdam', 'paris', 'tokyo'], dtype='<U9')"
      ]
     },
     "execution_count": 20,
     "metadata": {},
     "output_type": "execute_result"
    }
   ],
   "source": [
    "encoded_city_values = [0, 1, 2]\n",
    "le.inverse_transform(encoded_city_values)"
   ]
  },
  {
   "cell_type": "markdown",
   "metadata": {},
   "source": [
    "# Understanding LabelBinarizer"
   ]
  },
  {
   "cell_type": "markdown",
   "metadata": {},
   "source": [
    "Label Binarizer is basically a Label encoder, except that:\n",
    "    1. It will assign binary labels to entities in the list, that is 1 or 0, or a series of 1's and 0's for more than 2 states.\n",
    "    2. If two values are present ON and OFF, they will get values 1 and 0\n",
    "    3. This is because 1 bit is enough to represent 2 states.\n",
    "    \n",
    "The following two examples show this\n",
    "    1. In the first example, simple ON , OFF is encoded as 1 and 0\n",
    "    2. In the second example, a series switch presses is shown: ON, OFF, ON, OFF and this is encoded as 1, 0, 1, 0"
   ]
  },
  {
   "cell_type": "code",
   "execution_count": 23,
   "metadata": {},
   "outputs": [
    {
     "data": {
      "text/plain": [
       "array([[1],\n",
       "       [0]])"
      ]
     },
     "execution_count": 23,
     "metadata": {},
     "output_type": "execute_result"
    }
   ],
   "source": [
    "switch_state                 = ['on', 'off']\n",
    "encoded_switch_states_values = lb.fit_transform(switch_state)\n",
    "encoded_switch_states_values"
   ]
  },
  {
   "cell_type": "code",
   "execution_count": 26,
   "metadata": {},
   "outputs": [
    {
     "data": {
      "text/plain": [
       "array([[1],\n",
       "       [0],\n",
       "       [1],\n",
       "       [0]])"
      ]
     },
     "execution_count": 26,
     "metadata": {},
     "output_type": "execute_result"
    }
   ],
   "source": [
    "switch_press_sequence = ['on', 'off', 'on', 'off']\n",
    "sps_values            = lb.fit_transform(switch_press_sequence)\n",
    "sps_values"
   ]
  },
  {
   "cell_type": "markdown",
   "metadata": {},
   "source": [
    "In this example we look at a sequence of elements which represent 3 states:\n",
    "    1. ON\n",
    "    2. OFF\n",
    "    3. FUZZY\n",
    "\n",
    "We can't use just 1 or 0, because we now have a third state. So Label Binarizer encodes this as:\n",
    "    1. 0 0 1 AS ONE\n",
    "    2. 0 1 0 AS TWO\n",
    "    3. 1 0 0 AS FUZZY"
   ]
  },
  {
   "cell_type": "code",
   "execution_count": 22,
   "metadata": {},
   "outputs": [
    {
     "data": {
      "text/plain": [
       "array([[0, 0, 1],\n",
       "       [0, 1, 0],\n",
       "       [1, 0, 0]])"
      ]
     },
     "execution_count": 22,
     "metadata": {},
     "output_type": "execute_result"
    }
   ],
   "source": [
    "states                = ['on', 'off', 'fuzzy']\n",
    "\n",
    "lb                    = preprocessing.LabelBinarizer()\n",
    "encoded_states_values = lb.fit_transform(states)\n",
    "encoded_states_values"
   ]
  },
  {
   "cell_type": "markdown",
   "metadata": {},
   "source": [
    "In this example we see a series of switch press sequence, like earlier, except that we now introduced a new press state called 'FUZZY'\n",
    "\n",
    "The Label Binarizer has perfectly encoded them as shown below."
   ]
  },
  {
   "cell_type": "code",
   "execution_count": 27,
   "metadata": {},
   "outputs": [
    {
     "data": {
      "text/plain": [
       "array([[0, 0, 1],\n",
       "       [0, 1, 0],\n",
       "       [0, 0, 1],\n",
       "       [0, 1, 0],\n",
       "       [1, 0, 0]])"
      ]
     },
     "execution_count": 27,
     "metadata": {},
     "output_type": "execute_result"
    }
   ],
   "source": [
    "faulty_switch_press_sequence = ['on', 'off', 'on', 'off', 'fuzzy']\n",
    "faulty_sps_values            = lb.fit_transform(faulty_switch_press_sequence)\n",
    "faulty_sps_values"
   ]
  },
  {
   "cell_type": "markdown",
   "metadata": {},
   "source": [
    "We can also use this in a slightly different way.\n",
    "    1. First train the Binarizer.\n",
    "    2. Next do the transform\n",
    "    \n",
    "In the succeeding example, we show how we can get back the states from encoded values."
   ]
  },
  {
   "cell_type": "code",
   "execution_count": 29,
   "metadata": {},
   "outputs": [
    {
     "data": {
      "text/plain": [
       "array([[0, 0, 1],\n",
       "       [1, 0, 0]])"
      ]
     },
     "execution_count": 29,
     "metadata": {},
     "output_type": "execute_result"
    }
   ],
   "source": [
    "lb = preprocessing.LabelBinarizer()\n",
    "\n",
    "lb.fit(faulty_switch_press_sequence)\n",
    "switch_press_transformed = lb.transform(['on', 'fuzzy'])\n",
    "switch_press_transformed"
   ]
  },
  {
   "cell_type": "code",
   "execution_count": 30,
   "metadata": {},
   "outputs": [
    {
     "data": {
      "text/plain": [
       "array(['on', 'fuzzy'], dtype='<U5')"
      ]
     },
     "execution_count": 30,
     "metadata": {},
     "output_type": "execute_result"
    }
   ],
   "source": [
    "lb.inverse_transform(switch_press_transformed)"
   ]
  },
  {
   "cell_type": "code",
   "execution_count": null,
   "metadata": {},
   "outputs": [],
   "source": []
  }
 ],
 "metadata": {
  "kernelspec": {
   "display_name": "Python 3",
   "language": "python",
   "name": "python3"
  },
  "language_info": {
   "codemirror_mode": {
    "name": "ipython",
    "version": 3
   },
   "file_extension": ".py",
   "mimetype": "text/x-python",
   "name": "python",
   "nbconvert_exporter": "python",
   "pygments_lexer": "ipython3",
   "version": "3.7.2"
  }
 },
 "nbformat": 4,
 "nbformat_minor": 2
}
