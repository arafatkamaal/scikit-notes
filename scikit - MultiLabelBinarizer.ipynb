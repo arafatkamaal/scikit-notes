{
 "cells": [
  {
   "cell_type": "markdown",
   "metadata": {},
   "source": [
    "# Undersanding Multilabel Binarizer"
   ]
  },
  {
   "cell_type": "markdown",
   "metadata": {},
   "source": [
    "It works very similar to label binarizer except that we now deal with sets in a list"
   ]
  },
  {
   "cell_type": "code",
   "execution_count": 1,
   "metadata": {},
   "outputs": [],
   "source": [
    "from sklearn.preprocessing import MultiLabelBinarizer"
   ]
  },
  {
   "cell_type": "code",
   "execution_count": 5,
   "metadata": {},
   "outputs": [],
   "source": [
    "states = [set(['ON', 'OFF']), set(['FUZZY'])]"
   ]
  },
  {
   "cell_type": "markdown",
   "metadata": {},
   "source": [
    "This data is very similar to the example we say in Label binarizer\n",
    "\n",
    "In label binarizer we saw the input as:\n",
    "\n",
    "      states = ['on', 'off', 'fuzzy']\n",
    "      \n",
    "Here we see it as\n",
    "\n",
    "      states = [set(['ON', 'OFF']), set(['FUZZY'])]"
   ]
  },
  {
   "cell_type": "code",
   "execution_count": 7,
   "metadata": {},
   "outputs": [
    {
     "data": {
      "text/plain": [
       "array([[0, 1, 1],\n",
       "       [1, 0, 0]])"
      ]
     },
     "execution_count": 7,
     "metadata": {},
     "output_type": "execute_result"
    }
   ],
   "source": [
    "mlb = MultiLabelBinarizer()\n",
    "mlb.fit_transform(states)"
   ]
  },
  {
   "cell_type": "markdown",
   "metadata": {},
   "source": [
    "This is how we understand the output\n",
    "\n",
    "    - The input is taken as a 'FUZZY', then 'ON', 'OFF'\n",
    "\n",
    "Here is how it is binarized.\n",
    "\n",
    "    ON     - 0 0 1\n",
    "    OFF    - 0 1 0\n",
    "    FUZZY  - 1 0 0\n",
    "    \n",
    "Then\n",
    "\n",
    "    set(['ON', 'OFF']) is binarized to [0 1 1]\n",
    "    set(['FUZZY'])     is binarized to [1 0 0]"
   ]
  },
  {
   "cell_type": "markdown",
   "metadata": {},
   "source": [
    "Lets look at a slightly better example"
   ]
  },
  {
   "cell_type": "code",
   "execution_count": 8,
   "metadata": {},
   "outputs": [
    {
     "data": {
      "text/plain": [
       "array([[0, 1],\n",
       "       [1, 0],\n",
       "       [0, 1]])"
      ]
     },
     "execution_count": 8,
     "metadata": {},
     "output_type": "execute_result"
    }
   ],
   "source": [
    "states = [set(['ON']), set(['OFF']), set(['ON'])]\n",
    "mlb.fit_transform(states)"
   ]
  },
  {
   "cell_type": "markdown",
   "metadata": {},
   "source": [
    "Here is how we understand this\n",
    "\n",
    "    - There are two states, ON AND OFF\n",
    "    - ON  is binarized as [0 1]\n",
    "    - OFF is binarized as [1 0]\n",
    "    \n",
    "The sequence of \n",
    "    - set(['ON']), set(['OFF']), set(['ON'])\n",
    "\n",
    "is binarized as\n",
    "\n",
    "    [[0, 1],\n",
    "     [1, 0],\n",
    "     [0, 1]]"
   ]
  },
  {
   "cell_type": "code",
   "execution_count": null,
   "metadata": {},
   "outputs": [],
   "source": []
  }
 ],
 "metadata": {
  "kernelspec": {
   "display_name": "Python 3",
   "language": "python",
   "name": "python3"
  },
  "language_info": {
   "codemirror_mode": {
    "name": "ipython",
    "version": 3
   },
   "file_extension": ".py",
   "mimetype": "text/x-python",
   "name": "python",
   "nbconvert_exporter": "python",
   "pygments_lexer": "ipython3",
   "version": "3.7.2"
  }
 },
 "nbformat": 4,
 "nbformat_minor": 2
}
